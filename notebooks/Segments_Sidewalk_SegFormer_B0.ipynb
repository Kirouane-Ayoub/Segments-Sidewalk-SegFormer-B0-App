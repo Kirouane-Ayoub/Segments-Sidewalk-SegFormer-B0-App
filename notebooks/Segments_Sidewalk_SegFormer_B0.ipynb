{
  "nbformat": 4,
  "nbformat_minor": 0,
  "metadata": {
    "colab": {
      "provenance": []
    },
    "kernelspec": {
      "name": "python3",
      "display_name": "Python 3"
    },
    "language_info": {
      "name": "python"
    }
  },
  "cells": [
    {
      "cell_type": "code",
      "execution_count": 1,
      "metadata": {
        "id": "Iev6_Uph61Hm",
        "colab": {
          "base_uri": "https://localhost:8080/"
        },
        "outputId": "4202ab87-2be2-41cb-dd01-a4eb766b8912"
      },
      "outputs": [
        {
          "output_type": "stream",
          "name": "stdout",
          "text": [
            "Successfully installed aiofiles-23.2.1 fastapi-0.103.1 ffmpy-0.3.1 gradio-3.44.4 gradio-client-0.5.1 h11-0.14.0 httpcore-0.18.0 httpx-0.25.0 huggingface-hub-0.17.2 orjson-3.9.7 pydub-0.25.1 python-multipart-0.0.6 safetensors-0.3.3 semantic-version-2.10.0 starlette-0.27.0 tokenizers-0.13.3 transformers-4.33.2 uvicorn-0.23.2 websockets-11.0.3\n"
          ]
        }
      ],
      "source": [
        "! pip install gradio transformers"
      ]
    },
    {
      "cell_type": "code",
      "source": [
        "from torch import nn\n",
        "import numpy as np\n",
        "from PIL import Image\n",
        "import gradio as gr\n",
        "from transformers import AutoFeatureExtractor, SegformerForSemanticSegmentation\n",
        "def ade_palette():\n",
        "    \"\"\"ADE20K palette that maps each class to RGB values.\"\"\"\n",
        "    return [[120, 120, 120], [180, 120, 120], [6, 230, 230], [80, 50, 50],\n",
        "            [4, 200, 3], [120, 120, 80], [140, 140, 140], [204, 5, 255],\n",
        "            [230, 230, 230], [4, 250, 7], [224, 5, 255], [235, 255, 7],\n",
        "            [150, 5, 61], [120, 120, 70], [8, 255, 51], [255, 6, 82],\n",
        "            [143, 255, 140], [204, 255, 4], [255, 51, 7], [204, 70, 3],\n",
        "            [0, 102, 200], [61, 230, 250], [255, 6, 51], [11, 102, 255],\n",
        "            [255, 7, 71], [255, 9, 224], [9, 7, 230], [220, 220, 220],\n",
        "            [255, 9, 92], [112, 9, 255], [8, 255, 214], [7, 255, 224],\n",
        "            [255, 184, 6], [10, 255, 71], [255, 41, 10], [7, 255, 255],\n",
        "            [224, 255, 8], [102, 8, 255], [255, 61, 6], [255, 194, 7],\n",
        "            [255, 122, 8], [0, 255, 20], [255, 8, 41], [255, 5, 153],\n",
        "            [6, 51, 255], [235, 12, 255], [160, 150, 20], [0, 163, 255],\n",
        "            [140, 140, 140], [250, 10, 15], [20, 255, 0], [31, 255, 0],\n",
        "            [255, 31, 0], [255, 224, 0], [153, 255, 0], [0, 0, 255],\n",
        "            [255, 71, 0], [0, 235, 255], [0, 173, 255], [31, 0, 255],\n",
        "            [11, 200, 200], [255, 82, 0], [0, 255, 245], [0, 61, 255],\n",
        "            [0, 255, 112], [0, 255, 133], [255, 0, 0], [255, 163, 0],\n",
        "            [255, 102, 0], [194, 255, 0], [0, 143, 255], [51, 255, 0],\n",
        "            [0, 82, 255], [0, 255, 41], [0, 255, 173], [10, 0, 255],\n",
        "            [173, 255, 0], [0, 255, 153], [255, 92, 0], [255, 0, 255],\n",
        "            [255, 0, 245], [255, 0, 102], [255, 173, 0], [255, 0, 20],\n",
        "            [255, 184, 184], [0, 31, 255], [0, 255, 61], [0, 71, 255],\n",
        "            [255, 0, 204], [0, 255, 194], [0, 255, 82], [0, 10, 255],\n",
        "            [0, 112, 255], [51, 0, 255], [0, 194, 255], [0, 122, 255],\n",
        "            [0, 255, 163], [255, 153, 0], [0, 255, 10], [255, 112, 0],\n",
        "            [143, 255, 0], [82, 0, 255], [163, 255, 0], [255, 235, 0],\n",
        "            [8, 184, 170], [133, 0, 255], [0, 255, 92], [184, 0, 255],\n",
        "            [255, 0, 31], [0, 184, 255], [0, 214, 255], [255, 0, 112],\n",
        "            [92, 255, 0], [0, 224, 255], [112, 224, 255], [70, 184, 160],\n",
        "            [163, 0, 255], [153, 0, 255], [71, 255, 0], [255, 0, 163],\n",
        "            [255, 204, 0], [255, 0, 143], [0, 255, 235], [133, 255, 0],\n",
        "            [255, 0, 235], [245, 0, 255], [255, 0, 122], [255, 245, 0],\n",
        "            [10, 190, 212], [214, 255, 0], [0, 204, 255], [20, 0, 255],\n",
        "            [255, 255, 0], [0, 153, 255], [0, 41, 255], [0, 255, 204],\n",
        "            [41, 0, 255], [41, 255, 0], [173, 0, 255], [0, 245, 255],\n",
        "            [71, 0, 255], [122, 0, 255], [0, 255, 184], [0, 92, 255],\n",
        "            [184, 255, 0], [0, 133, 255], [255, 214, 0], [25, 194, 194],\n",
        "            [102, 255, 0], [92, 0, 255]]"
      ],
      "metadata": {
        "id": "VEnzeC2QCuXc"
      },
      "execution_count": null,
      "outputs": []
    },
    {
      "cell_type": "code",
      "source": [
        "def run(img):\n",
        "  extractor = AutoFeatureExtractor.from_pretrained(\"ayoubkirouane/Segments-Sidewalk-SegFormer-B0\")\n",
        "  model = SegformerForSemanticSegmentation.from_pretrained(\"ayoubkirouane/Segments-Sidewalk-SegFormer-B0\")\n",
        "  pixel_values = extractor(img, return_tensors=\"pt\").pixel_values.to(\"cpu\")\n",
        "  outputs = model(pixel_values)\n",
        "  logits = outputs.logits\n",
        "  logits = nn.functional.interpolate(outputs.logits.detach().cpu(),\n",
        "                size=img.size[::-1], # (height, width)\n",
        "                mode='bilinear',\n",
        "                align_corners=False)\n",
        "    # Second, apply argmax on the class dimension\n",
        "  seg = logits.argmax(dim=1)[0]\n",
        "  color_seg = np.zeros((seg.shape[0], seg.shape[1], 3), dtype=np.uint8) # height, width, 3\n",
        "  palette = np.array(ade_palette())\n",
        "  for label, color in enumerate(palette):\n",
        "      color_seg[seg == label, :] = color\n",
        "  # Convert to BGR\n",
        "  color_seg = color_seg[..., ::-1]\n",
        "\n",
        "  # Show image + mask\n",
        "  img = np.array(img) * 0.5 + color_seg * 0.5\n",
        "  img = img.astype(np.uint8)\n",
        "  img = Image.fromarray(img)\n",
        "  return img"
      ],
      "metadata": {
        "id": "JQCDXl26CeQW"
      },
      "execution_count": 37,
      "outputs": []
    },
    {
      "cell_type": "code",
      "source": [
        "# Create a Gradio interface\n",
        "iface = gr.Interface(\n",
        "    fn=run,\n",
        "    inputs=gr.Image(label=\"Input image\", type=\"pil\"),\n",
        "    outputs=gr.Image(label=\"Output image with predicted instance Masks\", type=\"pil\"),\n",
        "    title=\"Image Segmentation with Image Segmentation with Segments-Sidewalk-SegFormer-B0\",\n",
        "    description=\"Upload an image, and this app will perform image segmentation and display the result.\",\n",
        ")\n",
        "\n",
        "# Launch the app\n",
        "iface.launch(share=True , debug=True)"
      ],
      "metadata": {
        "id": "L5yXgLwsEEnf"
      },
      "execution_count": null,
      "outputs": []
    }
  ]
}